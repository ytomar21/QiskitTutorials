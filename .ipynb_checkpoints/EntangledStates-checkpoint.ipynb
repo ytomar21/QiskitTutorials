{
 "cells": [
  {
   "cell_type": "markdown",
   "id": "53ec9bf8-df38-4c8f-9550-5adf3bd21dee",
   "metadata": {},
   "source": [
    "## Note: This code is taken from IBM's Qiskit Tutorial, Entangled States: \n",
    "\n",
    "https://learn.qiskit.org/course/introduction/entangled-states"
   ]
  },
  {
   "cell_type": "markdown",
   "id": "ae6f820d-e690-49d5-abeb-b822c0984f87",
   "metadata": {},
   "source": [
    "### Entangling States"
   ]
  },
  {
   "cell_type": "code",
   "execution_count": 2,
   "id": "339c11b2-ee81-4d0b-9345-0ca6433fa4f7",
   "metadata": {},
   "outputs": [
    {
     "data": {
      "text/plain": [
       "'Statevector([1.+0.j, 0.+0.j, 0.+0.j, 0.+0.j],\\n            dims=(2, 2))'"
      ]
     },
     "execution_count": 2,
     "metadata": {},
     "output_type": "execute_result"
    }
   ],
   "source": [
    "from qiskit import QuantumCircuit\n",
    "from qiskit.quantum_info import Statevector\n",
    "\n",
    "qc = QuantumCircuit(2)\n",
    "\n",
    "# This calculates what the state vector of our qubits would be\n",
    "# after passing through the circuit 'qc'\n",
    "\n",
    "ket = Statevector(qc)\n",
    "ket.draw()\n"
   ]
  },
  {
   "cell_type": "markdown",
   "id": "9c08ced0-6f8e-454e-a1b7-d84ca6a330c6",
   "metadata": {},
   "source": [
    "### Now add a Hadamard Gate"
   ]
  },
  {
   "cell_type": "code",
   "execution_count": 3,
   "id": "c3d3265e-d710-4b20-8ee9-a080e3f303fd",
   "metadata": {},
   "outputs": [
    {
     "data": {
      "text/plain": [
       "'Statevector([0.70710678+0.j, 0.        +0.j, 0.70710678+0.j,\\n             0.        +0.j],\\n            dims=(2, 2))'"
      ]
     },
     "execution_count": 3,
     "metadata": {},
     "output_type": "execute_result"
    }
   ],
   "source": [
    "qc.h(1)\n",
    "\n",
    "ket = Statevector(qc)\n",
    "ket.draw()\n",
    "\n",
    "#Result gives you (√2/2)|00> + (√2/2)|10>"
   ]
  },
  {
   "cell_type": "markdown",
   "id": "727f08ad-3cd0-4aae-be76-6f1f610bc6a7",
   "metadata": {},
   "source": [
    "### Now add a CX Gate to Create Entangled State"
   ]
  },
  {
   "cell_type": "code",
   "execution_count": 4,
   "id": "ae434174-be9a-407e-8ac1-9cf18647a796",
   "metadata": {},
   "outputs": [
    {
     "data": {
      "text/plain": [
       "'Statevector([0.70710678+0.j, 0.        +0.j, 0.        +0.j,\\n             0.70710678+0.j],\\n            dims=(2, 2))'"
      ]
     },
     "execution_count": 4,
     "metadata": {},
     "output_type": "execute_result"
    }
   ],
   "source": [
    "qc.cx(1,0)\n",
    "\n",
    "ket = Statevector(qc)\n",
    "ket.draw()\n",
    "\n",
    "#This result generates an entangled state\n",
    "# (√2/2)|00> + (√2/2)|11>; which can not be\n",
    "# generated as a product state of two natural\n",
    "# qubits"
   ]
  },
  {
   "cell_type": "markdown",
   "id": "0d1dcb27-edc0-4365-a561-a9f7244d2805",
   "metadata": {},
   "source": [
    "### Exploring Phase Kickback with CX and Z gates"
   ]
  },
  {
   "cell_type": "code",
   "execution_count": 5,
   "id": "c6c950c6-8b1c-4711-bcac-fc04bfb89fff",
   "metadata": {},
   "outputs": [
    {
     "data": {
      "text/plain": [
       "'Statevector([0.5+0.j, 0.5+0.j, 0.5+0.j, 0.5+0.j],\\n            dims=(2, 2))'"
      ]
     },
     "execution_count": 5,
     "metadata": {},
     "output_type": "execute_result"
    }
   ],
   "source": [
    "qc = QuantumCircuit(2)\n",
    "\n",
    "#Hadamard Gate on qubit 0 and 1\n",
    "qc.h(0)\n",
    "qc.h(1)\n",
    "\n",
    "ket = Statevector(qc)\n",
    "ket.draw()"
   ]
  },
  {
   "cell_type": "code",
   "execution_count": 6,
   "id": "7367b010-b99c-4040-8639-8dc6c085ffa2",
   "metadata": {},
   "outputs": [
    {
     "data": {
      "text/plain": [
       "'Statevector([0.5+0.j, 0.5+0.j, 0.5+0.j, 0.5+0.j],\\n            dims=(2, 2))'"
      ]
     },
     "execution_count": 6,
     "metadata": {},
     "output_type": "execute_result"
    }
   ],
   "source": [
    "#We see cx currently doesn't impact the vector\n",
    "qc.cx(1,0)\n",
    "\n",
    "ket = Statevector(qc)\n",
    "ket.draw()"
   ]
  },
  {
   "cell_type": "code",
   "execution_count": 7,
   "id": "85ad86f0-c018-466a-81e5-53cd34719643",
   "metadata": {},
   "outputs": [
    {
     "data": {
      "text/plain": [
       "'Statevector([ 0.5+0.j, -0.5+0.j,  0.5+0.j, -0.5+0.j],\\n            dims=(2, 2))'"
      ]
     },
     "execution_count": 7,
     "metadata": {},
     "output_type": "execute_result"
    }
   ],
   "source": [
    "#Flip target bit from |+> to |-> state\n",
    "# using z gate\n",
    "qc.z(0)\n",
    "\n",
    "ket = Statevector(qc)\n",
    "ket.draw()"
   ]
  },
  {
   "cell_type": "code",
   "execution_count": 8,
   "id": "8107fb5c-91fa-4bc2-a844-0eed7b1370b4",
   "metadata": {},
   "outputs": [
    {
     "data": {
      "text/plain": [
       "'Statevector([ 0.5+0.j, -0.5+0.j, -0.5+0.j,  0.5+0.j],\\n            dims=(2, 2))'"
      ]
     },
     "execution_count": 8,
     "metadata": {},
     "output_type": "execute_result"
    }
   ],
   "source": [
    "#Now if we use cx gate, it flips the control bit\n",
    "# to |-> state as well\n",
    "\n",
    "qc.cx(1,0)\n",
    "ket = Statevector(qc)\n",
    "ket.draw()\n",
    "\n",
    "#This phenom is called \"phase kickback\" where\n",
    "# if both control and target are in a superposition\n",
    "# some features of target superposition can affect\n",
    "# control"
   ]
  },
  {
   "cell_type": "markdown",
   "id": "ba51ccc5-3801-4612-83df-46d33df51bc0",
   "metadata": {},
   "source": [
    "## Using Entanglement for Quantum Communication"
   ]
  },
  {
   "cell_type": "code",
   "execution_count": 12,
   "id": "186813ea-7e21-41d9-bf60-3c318d2ed94c",
   "metadata": {},
   "outputs": [],
   "source": [
    "# The message\n",
    "MESSAGE = '00'\n",
    "\n",
    "# Alice encodes the message\n",
    "qc_alice = QuantumCircuit(2,2)\n",
    "\n",
    "if MESSAGE[-1]=='1':\n",
    "    qc_alice.x(0)\n",
    "if MESSAGE[-2]=='1':\n",
    "    qc_alice.x(1)\n"
   ]
  },
  {
   "cell_type": "code",
   "execution_count": 13,
   "id": "7ceb1156-f95c-41d6-8893-e6b1d2be1047",
   "metadata": {},
   "outputs": [
    {
     "data": {
      "text/plain": [
       "{'01': 1024}"
      ]
     },
     "execution_count": 13,
     "metadata": {},
     "output_type": "execute_result"
    }
   ],
   "source": [
    "from qiskit import Aer\n",
    "backend = Aer.get_backend('aer_simulator')\n",
    "\n",
    "# Bob measures\n",
    "qc_bob = QuantumCircuit(2,2)\n",
    "qc_bob.measure([0,1],[0,1])\n",
    "\n",
    "#This run utilizes no entanglement and requires\n",
    "# 2 qubits/bits from both Alice and Bob\n",
    "backend.run(qc_alice.compose(qc_bob)).result().get_counts()"
   ]
  },
  {
   "cell_type": "markdown",
   "id": "28577191-b772-4b8b-b861-eae66435dcd1",
   "metadata": {},
   "source": [
    "### Now implement entanglement between Alice and Bob"
   ]
  },
  {
   "cell_type": "code",
   "execution_count": 16,
   "id": "ca6e6d8e-1005-47ef-9ab1-86cc97b7ba93",
   "metadata": {},
   "outputs": [
    {
     "data": {
      "text/plain": [
       "'Statevector([0.70710678+0.j, 0.        +0.j, 0.        +0.j,\\n             0.70710678+0.j],\\n            dims=(2, 2))'"
      ]
     },
     "execution_count": 16,
     "metadata": {},
     "output_type": "execute_result"
    }
   ],
   "source": [
    "# The message\n",
    "MESSAGE = '00'\n",
    "\n",
    "# Alice encodes the message\n",
    "qc_alice = QuantumCircuit(2,2)\n",
    "\n",
    "if MESSAGE[-1]=='1':\n",
    "    qc_alice.x(0)\n",
    "if MESSAGE[-2]=='1':\n",
    "    qc_alice.x(1)\n",
    "\n",
    "#Now create entangled states\n",
    "qc_alice.h(1)\n",
    "qc_alice.cx(1,0)\n",
    "\n",
    "ket = Statevector(qc_alice)\n",
    "ket.draw()"
   ]
  },
  {
   "cell_type": "code",
   "execution_count": 17,
   "id": "c38ef8dd-9c8b-45db-b137-2fe63da60442",
   "metadata": {},
   "outputs": [
    {
     "data": {
      "text/html": [
       "<pre style=\"word-wrap: normal;white-space: pre;background: #fff0;line-height: 1.1;font-family: &quot;Courier New&quot;,Courier,monospace\">     ┌───┐     ┌─┐   \n",
       "q_0: ┤ X ├─────┤M├───\n",
       "     └─┬─┘┌───┐└╥┘┌─┐\n",
       "q_1: ──■──┤ H ├─╫─┤M├\n",
       "          └───┘ ║ └╥┘\n",
       "c: 2/═══════════╩══╩═\n",
       "                0  1 </pre>"
      ],
      "text/plain": [
       "     ┌───┐     ┌─┐   \n",
       "q_0: ┤ X ├─────┤M├───\n",
       "     └─┬─┘┌───┐└╥┘┌─┐\n",
       "q_1: ──■──┤ H ├─╫─┤M├\n",
       "          └───┘ ║ └╥┘\n",
       "c: 2/═══════════╩══╩═\n",
       "                0  1 "
      ]
     },
     "execution_count": 17,
     "metadata": {},
     "output_type": "execute_result"
    }
   ],
   "source": [
    "#Now bob receives the states\n",
    "# and has to disentangle\n",
    "qc_bob = QuantumCircuit(2,2)\n",
    "\n",
    "#Bob disentangles\n",
    "qc_bob.cx(1,0)\n",
    "qc_bob.h(1)\n",
    "\n",
    "#Then measure\n",
    "qc_bob.measure([0,1],[0,1])\n",
    "\n",
    "qc_bob.draw()"
   ]
  },
  {
   "cell_type": "markdown",
   "id": "c0574a02-61f0-48bb-9350-d192ccd5274f",
   "metadata": {},
   "source": [
    "### To change between the four entangled states, all that is required is either a z gate or x gate. Utilizing this info, we can modify the way Alice encodes her message"
   ]
  },
  {
   "cell_type": "code",
   "execution_count": 18,
   "id": "738b512a-5314-4ac9-93cf-97c3f73e5d4e",
   "metadata": {},
   "outputs": [
    {
     "data": {
      "text/plain": [
       "'Statevector([0.70710678+0.j, 0.        +0.j, 0.        +0.j,\\n             0.70710678+0.j],\\n            dims=(2, 2))'"
      ]
     },
     "execution_count": 18,
     "metadata": {},
     "output_type": "execute_result"
    }
   ],
   "source": [
    "# The message\n",
    "MESSAGE = '00'\n",
    "\n",
    "# Alice encodes the message\n",
    "qc_alice = QuantumCircuit(2,2)\n",
    "\n",
    "#Create entangled states first\n",
    "qc_alice.h(1)\n",
    "qc_alice.cx(1,0)\n",
    "\n",
    "if MESSAGE[-2]=='1':\n",
    "    qc_alice.z(1)\n",
    "if MESSAGE[-1]=='1':\n",
    "    qc_alice.x(1)\n",
    "\n",
    "ket = Statevector(qc_alice)\n",
    "#This result should match the previous version of Alice's\n",
    "# encoding, where previously she was using two x gates on \n",
    "# both qubits\n",
    "ket.draw()"
   ]
  },
  {
   "cell_type": "code",
   "execution_count": 19,
   "id": "5821c2dd-51ac-4317-9723-10c9df840469",
   "metadata": {},
   "outputs": [
    {
     "data": {
      "text/plain": [
       "{'00': 1024}"
      ]
     },
     "execution_count": 19,
     "metadata": {},
     "output_type": "execute_result"
    }
   ],
   "source": [
    "#Bob's circuit doesn't need to change\n",
    "backend.run(qc_alice.compose(qc_bob)).result().get_counts()"
   ]
  },
  {
   "cell_type": "markdown",
   "id": "ded32228-7184-4db1-a8ca-fb935739b059",
   "metadata": {},
   "source": [
    "### What is interesting is that x and z gates can be applied to just a single qubit (1 in this case). Alice could theoretically qubit 0 over as soon as the entanglement between qubit 0 and 1 occurs. She could even send qubit 0, before establishing what her message would be!"
   ]
  },
  {
   "cell_type": "markdown",
   "id": "0b767f9f-cd37-4143-9f32-bdfa19617e95",
   "metadata": {},
   "source": [
    "### Here, we will make things more interesting by adding a third party (Charlie) whose only job is to create an entangled state and send the qubits out"
   ]
  },
  {
   "cell_type": "code",
   "execution_count": 20,
   "id": "4c8b1729-5550-4b2f-99cb-78f704182cdd",
   "metadata": {},
   "outputs": [
    {
     "data": {
      "text/html": [
       "<pre style=\"word-wrap: normal;white-space: pre;background: #fff0;line-height: 1.1;font-family: &quot;Courier New&quot;,Courier,monospace\">          ┌───┐\n",
       "q_0: ─────┤ X ├\n",
       "     ┌───┐└─┬─┘\n",
       "q_1: ┤ H ├──■──\n",
       "     └───┘     \n",
       "c: 2/══════════\n",
       "               </pre>"
      ],
      "text/plain": [
       "          ┌───┐\n",
       "q_0: ─────┤ X ├\n",
       "     ┌───┐└─┬─┘\n",
       "q_1: ┤ H ├──■──\n",
       "     └───┘     \n",
       "c: 2/══════════\n",
       "               "
      ]
     },
     "execution_count": 20,
     "metadata": {},
     "output_type": "execute_result"
    }
   ],
   "source": [
    "qc_charlie = QuantumCircuit(2,2)\n",
    "\n",
    "qc_charlie.h(1)\n",
    "qc_charlie.cx(1,0)\n",
    "\n",
    "qc_charlie.draw()"
   ]
  },
  {
   "cell_type": "markdown",
   "id": "6cd62902-665f-4f51-9ff4-f6d89286e78c",
   "metadata": {},
   "source": [
    "### Charlie can directly send one qubit to Bob, and the other to Alice. Alice can encode her two qubit message by manipulating just this single qubit, and send only this one qubit to Bob"
   ]
  },
  {
   "cell_type": "code",
   "execution_count": 21,
   "id": "f83d8f06-c9b8-4680-b715-e9140d3b92c5",
   "metadata": {},
   "outputs": [],
   "source": [
    "# The message\n",
    "MESSAGE = '01'\n",
    "\n",
    "# Alice encodes the message\n",
    "qc_alice = QuantumCircuit(2,2)\n",
    "\n",
    "if MESSAGE[-2]=='1':\n",
    "    qc_alice.z(1)\n",
    "if MESSAGE[-1]=='1':\n",
    "    qc_alice.x(1)\n"
   ]
  },
  {
   "cell_type": "code",
   "execution_count": 22,
   "id": "b8034120-b938-4b33-acf2-4912eb1e4043",
   "metadata": {},
   "outputs": [
    {
     "data": {
      "text/plain": [
       "{'01': 1024}"
      ]
     },
     "execution_count": 22,
     "metadata": {},
     "output_type": "execute_result"
    }
   ],
   "source": [
    "complete_qc = qc_charlie.compose(qc_alice.compose(qc_bob))\n",
    "backend.run(complete_qc).result().get_counts()"
   ]
  },
  {
   "cell_type": "code",
   "execution_count": null,
   "id": "462dfb2a-c33d-4de5-9d92-dd137e7e1e0e",
   "metadata": {},
   "outputs": [],
   "source": []
  }
 ],
 "metadata": {
  "kernelspec": {
   "display_name": "dev",
   "language": "python",
   "name": "dev"
  },
  "language_info": {
   "codemirror_mode": {
    "name": "ipython",
    "version": 3
   },
   "file_extension": ".py",
   "mimetype": "text/x-python",
   "name": "python",
   "nbconvert_exporter": "python",
   "pygments_lexer": "ipython3",
   "version": "3.11.2"
  }
 },
 "nbformat": 4,
 "nbformat_minor": 5
}
