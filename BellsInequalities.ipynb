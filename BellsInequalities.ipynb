{
 "cells": [
  {
   "cell_type": "markdown",
   "id": "4ab2d731-3eb5-4546-a0ad-ef5d88a973e8",
   "metadata": {},
   "source": [
    "## This code is taken from Qiskit's Tutorial, Visualizing Entanglement: https://learn.qiskit.org/course/introduction/visualizing-entanglement"
   ]
  },
  {
   "cell_type": "markdown",
   "id": "6ec39203-1c91-4a69-9af3-b105ecf53aab",
   "metadata": {},
   "source": [
    "### Lets compare how computational and quantum bits differ"
   ]
  },
  {
   "cell_type": "code",
   "execution_count": 1,
   "id": "328cdedb-3d50-4d70-8aae-a804554d41e6",
   "metadata": {},
   "outputs": [],
   "source": [
    "#Init computational bits\n",
    "import random\n",
    "def setup_variables():\n",
    "\n",
    "    r = random.random()\n",
    "\n",
    "    A = r*(2/3)\n",
    "    B = r*(1/3)\n",
    "\n",
    "    return A,B\n",
    "\n"
   ]
  },
  {
   "cell_type": "code",
   "execution_count": 2,
   "id": "f39a1242-eca3-4edd-acf2-9759c7b0c7bc",
   "metadata": {},
   "outputs": [],
   "source": [
    "#Take variable and hash scheme as input, output bit\n",
    "def hash2bit(variable, hash_type):\n",
    "\n",
    "    if hash_type == 'V':\n",
    "        bit = (variable < 0.5)\n",
    "    elif hash_type == 'H':\n",
    "        bit = (variable < 0.25)\n",
    "\n",
    "\n",
    "    bit = str(int(bit)) # Turn True/False into '1' and '0'\n",
    "\n",
    "    return bit"
   ]
  },
  {
   "cell_type": "code",
   "execution_count": 7,
   "id": "d0424d7d-2733-42cd-8d68-9a7a9e01437f",
   "metadata": {},
   "outputs": [],
   "source": [
    "#Calculate the four probabilities P['HH'], P['HV'], P['VH'], P['VV'] on A and B respectively\n",
    "\n",
    "num_samples = 8192\n",
    "def calculate_P():\n",
    "    P = {}\n",
    "\n",
    "    for hashes in ['VV', 'VH', 'HV', 'HH']:\n",
    "\n",
    "        #Calculate each P[hashes] by sampling over num_samples samples\n",
    "        P[hashes] = 0\n",
    "\n",
    "        for shot in range(num_samples):\n",
    "\n",
    "            A, B = setup_variables()\n",
    "\n",
    "            # hash type for variable 'A' is the 1st character of 'hashes'\n",
    "            a = hash2bit(A, hashes[0])\n",
    "            # hash type for variable 'B' is the 2nd character of 'hashes'\n",
    "            b = hash2bit(B, hashes[1])\n",
    "\n",
    "            P[hashes] += (a != b)/num_samples\n",
    "\n",
    "    return P\n",
    "\n"
   ]
  },
  {
   "cell_type": "code",
   "execution_count": 8,
   "id": "4065eb07-7469-4d0a-a589-7d41ee252b2f",
   "metadata": {},
   "outputs": [
    {
     "name": "stdout",
     "output_type": "stream",
     "text": [
      "{'VV': 0.2552490234375, 'VH': 0.0, 'HV': 0.6187744140625, 'HH': 0.3697509765625}\n"
     ]
    }
   ],
   "source": [
    "P = calculate_P()\n",
    "print(P)"
   ]
  },
  {
   "cell_type": "code",
   "execution_count": null,
   "id": "36463cdc-319f-4e08-a234-968dc7808ea9",
   "metadata": {},
   "outputs": [],
   "source": []
  }
 ],
 "metadata": {
  "kernelspec": {
   "display_name": "dev",
   "language": "python",
   "name": "dev"
  },
  "language_info": {
   "codemirror_mode": {
    "name": "ipython",
    "version": 3
   },
   "file_extension": ".py",
   "mimetype": "text/x-python",
   "name": "python",
   "nbconvert_exporter": "python",
   "pygments_lexer": "ipython3",
   "version": "3.11.2"
  }
 },
 "nbformat": 4,
 "nbformat_minor": 5
}
