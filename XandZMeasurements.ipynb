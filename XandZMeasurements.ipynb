{
 "cells": [
  {
   "cell_type": "markdown",
   "id": "1d004b89-d3a1-4267-a779-4db6f4a1a69c",
   "metadata": {},
   "source": [
    "## Hardy Paradox and Measuring a Qubit. This notebook is derived from Qiskit's Entangling States tutorial: https://learn.qiskit.org/course/introduction/entangled-states"
   ]
  },
  {
   "cell_type": "code",
   "execution_count": 3,
   "id": "86489534-3377-46f1-ae6a-56a3884bc604",
   "metadata": {},
   "outputs": [],
   "source": [
    "#Initialize Simulator and Qiskit Libraries\n",
    "from qiskit import QuantumCircuit\n",
    "from qiskit.quantum_info import Statevector\n",
    "from qiskit import Aer\n",
    "backend = Aer.get_backend('aer_simulator')"
   ]
  },
  {
   "cell_type": "markdown",
   "id": "7b25427f-9697-4ce0-b7f1-dc611c37b262",
   "metadata": {},
   "source": [
    "### X measurement"
   ]
  },
  {
   "cell_type": "code",
   "execution_count": 4,
   "id": "c1329eb7-a853-4a85-83ef-bd7dd69ec177",
   "metadata": {},
   "outputs": [
    {
     "data": {
      "text/html": [
       "<pre style=\"word-wrap: normal;white-space: pre;background: #fff0;line-height: 1.1;font-family: &quot;Courier New&quot;,Courier,monospace\">     ┌───┐┌─┐\n",
       "  q: ┤ H ├┤M├\n",
       "     └───┘└╥┘\n",
       "c: 1/══════╩═\n",
       "           0 </pre>"
      ],
      "text/plain": [
       "     ┌───┐┌─┐\n",
       "  q: ┤ H ├┤M├\n",
       "     └───┘└╥┘\n",
       "c: 1/══════╩═\n",
       "           0 "
      ]
     },
     "execution_count": 4,
     "metadata": {},
     "output_type": "execute_result"
    }
   ],
   "source": [
    "meas_x = QuantumCircuit(1,1)\n",
    "meas_x.h(0)\n",
    "meas_x.measure(0,0)\n",
    "\n",
    "meas_x.draw()"
   ]
  },
  {
   "cell_type": "markdown",
   "id": "37b06b07-d3b8-4525-8e6e-95897d13da92",
   "metadata": {},
   "source": [
    "### Z measurement (Standard Form)"
   ]
  },
  {
   "cell_type": "code",
   "execution_count": 5,
   "id": "5331adc7-5a71-4bcf-8b1e-bf9f55c4d9f5",
   "metadata": {},
   "outputs": [
    {
     "data": {
      "text/html": [
       "<pre style=\"word-wrap: normal;white-space: pre;background: #fff0;line-height: 1.1;font-family: &quot;Courier New&quot;,Courier,monospace\">     ┌─┐\n",
       "  q: ┤M├\n",
       "     └╥┘\n",
       "c: 1/═╩═\n",
       "      0 </pre>"
      ],
      "text/plain": [
       "     ┌─┐\n",
       "  q: ┤M├\n",
       "     └╥┘\n",
       "c: 1/═╩═\n",
       "      0 "
      ]
     },
     "execution_count": 5,
     "metadata": {},
     "output_type": "execute_result"
    }
   ],
   "source": [
    "meas_z = QuantumCircuit(1,1)\n",
    "meas_z.measure(0,0)\n",
    "\n",
    "meas_z.draw()"
   ]
  },
  {
   "cell_type": "markdown",
   "id": "a6ea6bd0-57b5-49a1-a2bb-ba0af92d650f",
   "metadata": {},
   "source": [
    "## First We'll look at these two measurements under the |1> and |0> states"
   ]
  },
  {
   "cell_type": "code",
   "execution_count": 9,
   "id": "5b87a878-cc74-4c21-85ab-17c129c5fa37",
   "metadata": {},
   "outputs": [
    {
     "data": {
      "text/html": [
       "<pre style=\"word-wrap: normal;white-space: pre;background: #fff0;line-height: 1.1;font-family: &quot;Courier New&quot;,Courier,monospace\">     \n",
       "  q: \n",
       "     \n",
       "c: 1/\n",
       "     </pre>"
      ],
      "text/plain": [
       "     \n",
       "  q: \n",
       "     \n",
       "c: 1/\n",
       "     "
      ]
     },
     "metadata": {},
     "output_type": "display_data"
    },
    {
     "name": "stdout",
     "output_type": "stream",
     "text": [
      "For the |0> state...\n",
      "Results from z measurement: {'0': 1024}\n",
      "Results from x measurement: {'0': 507, '1': 517}\n"
     ]
    }
   ],
   "source": [
    "# |0> state\n",
    "qc = QuantumCircuit(1,1)\n",
    "display(qc.draw())\n",
    "\n",
    "print('For the |0> state...')\n",
    "for basis, circ in [('z', meas_z), ('x', meas_x)]:\n",
    "    print('Results from ' + basis + ' measurement:',\n",
    "          backend.run(qc.compose(circ)).result().get_counts())\n"
   ]
  },
  {
   "cell_type": "code",
   "execution_count": 10,
   "id": "07bc4538-310e-4da6-b0bf-41b778324604",
   "metadata": {},
   "outputs": [
    {
     "data": {
      "text/html": [
       "<pre style=\"word-wrap: normal;white-space: pre;background: #fff0;line-height: 1.1;font-family: &quot;Courier New&quot;,Courier,monospace\">     ┌───┐\n",
       "  q: ┤ X ├\n",
       "     └───┘\n",
       "c: 1/═════\n",
       "          </pre>"
      ],
      "text/plain": [
       "     ┌───┐\n",
       "  q: ┤ X ├\n",
       "     └───┘\n",
       "c: 1/═════\n",
       "          "
      ]
     },
     "metadata": {},
     "output_type": "display_data"
    },
    {
     "name": "stdout",
     "output_type": "stream",
     "text": [
      "For the |1> state...\n",
      "Results from z measurement: {'1': 1024}\n",
      "Results from x measurement: {'0': 523, '1': 501}\n"
     ]
    }
   ],
   "source": [
    "# |1> state\n",
    "qc = QuantumCircuit(1,1)\n",
    "qc.x(0)\n",
    "\n",
    "display(qc.draw())\n",
    "\n",
    "print('For the |1> state...')\n",
    "for basis, circ in [('z', meas_z), ('x', meas_x)]:\n",
    "    print('Results from ' + basis + ' measurement:',\n",
    "          backend.run(qc.compose(circ)).result().get_counts())"
   ]
  },
  {
   "cell_type": "markdown",
   "id": "5117aac7-3436-459d-a867-42f2fd81486a",
   "metadata": {},
   "source": [
    "## Next we'll look at these two measurements under the |+> and |-> states"
   ]
  },
  {
   "cell_type": "code",
   "execution_count": 12,
   "id": "8d719cc7-2b16-4f82-968f-2c277eb619da",
   "metadata": {},
   "outputs": [
    {
     "data": {
      "text/html": [
       "<pre style=\"word-wrap: normal;white-space: pre;background: #fff0;line-height: 1.1;font-family: &quot;Courier New&quot;,Courier,monospace\">     ┌───┐\n",
       "  q: ┤ H ├\n",
       "     └───┘\n",
       "c: 1/═════\n",
       "          </pre>"
      ],
      "text/plain": [
       "     ┌───┐\n",
       "  q: ┤ H ├\n",
       "     └───┘\n",
       "c: 1/═════\n",
       "          "
      ]
     },
     "metadata": {},
     "output_type": "display_data"
    },
    {
     "name": "stdout",
     "output_type": "stream",
     "text": [
      "For the |+> state...\n",
      "Results from z measurement: {'0': 537, '1': 487}\n",
      "Results from x measurement: {'0': 1024}\n"
     ]
    }
   ],
   "source": [
    "# |+> state\n",
    "qc = QuantumCircuit(1,1)\n",
    "qc.h(0)\n",
    "display(qc.draw())\n",
    "\n",
    "\n",
    "print('For the |+> state...')\n",
    "for basis, circ in [('z', meas_z), ('x', meas_x)]:\n",
    "    print('Results from ' + basis + ' measurement:',\n",
    "          backend.run(qc.compose(circ)).result().get_counts())"
   ]
  },
  {
   "cell_type": "code",
   "execution_count": 15,
   "id": "8df3b14e-4c47-45ca-93a4-906ac44c0b31",
   "metadata": {},
   "outputs": [
    {
     "data": {
      "text/html": [
       "<pre style=\"word-wrap: normal;white-space: pre;background: #fff0;line-height: 1.1;font-family: &quot;Courier New&quot;,Courier,monospace\">     ┌───┐┌───┐\n",
       "  q: ┤ H ├┤ Z ├\n",
       "     └───┘└───┘\n",
       "c: 1/══════════\n",
       "               </pre>"
      ],
      "text/plain": [
       "     ┌───┐┌───┐\n",
       "  q: ┤ H ├┤ Z ├\n",
       "     └───┘└───┘\n",
       "c: 1/══════════\n",
       "               "
      ]
     },
     "metadata": {},
     "output_type": "display_data"
    },
    {
     "name": "stdout",
     "output_type": "stream",
     "text": [
      "For the |-> state...\n",
      "Results from z measurement: {'1': 532, '0': 492}\n",
      "Results from x measurement: {'1': 1024}\n"
     ]
    }
   ],
   "source": [
    "# |-> state\n",
    "qc = QuantumCircuit(1,1)\n",
    "qc.h(0)\n",
    "qc.z(0)\n",
    "display(qc.draw())\n",
    "\n",
    "\n",
    "print('For the |-> state...')\n",
    "for basis, circ in [('z', meas_z), ('x', meas_x)]:\n",
    "    print('Results from ' + basis + ' measurement:',\n",
    "          backend.run(qc.compose(circ)).result().get_counts())"
   ]
  },
  {
   "cell_type": "markdown",
   "id": "62136710-e76e-47d6-a4ae-9f6a31e4e2d7",
   "metadata": {},
   "source": [
    "## What if we tried a single qubit rotation around the Y axis?"
   ]
  },
  {
   "cell_type": "code",
   "execution_count": 20,
   "id": "09d83786-bdec-4174-93c5-22f4a8eedfd6",
   "metadata": {},
   "outputs": [
    {
     "data": {
      "text/html": [
       "<pre style=\"word-wrap: normal;white-space: pre;background: #fff0;line-height: 1.1;font-family: &quot;Courier New&quot;,Courier,monospace\">     ┌──────────┐\n",
       "  q: ┤ Ry(-π/4) ├\n",
       "     └──────────┘\n",
       "c: 1/════════════\n",
       "                 </pre>"
      ],
      "text/plain": [
       "     ┌──────────┐\n",
       "  q: ┤ Ry(-π/4) ├\n",
       "     └──────────┘\n",
       "c: 1/════════════\n",
       "                 "
      ]
     },
     "metadata": {},
     "output_type": "display_data"
    },
    {
     "name": "stdout",
     "output_type": "stream",
     "text": [
      "Results from z measurement: {'1': 160, '0': 864}\n",
      "Results from x measurement: {'0': 143, '1': 881}\n"
     ]
    }
   ],
   "source": [
    "# What if instead of perfect rotations we tried something in the middle?\n",
    "from math import pi\n",
    "\n",
    "qc = QuantumCircuit(1,1)\n",
    "#Rotate by -pi/4\n",
    "qc.ry(-pi/4, 0)\n",
    "\n",
    "display(qc.draw())\n",
    "\n",
    "#Results are not completely random, have some partiality\n",
    "for basis, circ in [('z', meas_z), ('x', meas_x)]:\n",
    "    print('Results from ' + basis + ' measurement:',\n",
    "          backend.run(qc.compose(circ)).result().get_counts())"
   ]
  },
  {
   "cell_type": "markdown",
   "id": "cfd09c2b-0574-492d-8ca7-fba6ef54edec",
   "metadata": {},
   "source": []
  }
 ],
 "metadata": {
  "kernelspec": {
   "display_name": "dev",
   "language": "python",
   "name": "dev"
  },
  "language_info": {
   "codemirror_mode": {
    "name": "ipython",
    "version": 3
   },
   "file_extension": ".py",
   "mimetype": "text/x-python",
   "name": "python",
   "nbconvert_exporter": "python",
   "pygments_lexer": "ipython3",
   "version": "3.11.2"
  }
 },
 "nbformat": 4,
 "nbformat_minor": 5
}
