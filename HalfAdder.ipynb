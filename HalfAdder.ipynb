{
 "cells": [
  {
   "cell_type": "markdown",
   "id": "04e6ab19-6ac6-43f9-b6f9-85f2cd0da105",
   "metadata": {},
   "source": [
    "## Note: This code is taken from IBM's Qiskit Tutorial, The atoms of computation: \n",
    "\n",
    "https://learn.qiskit.org/course/introduction/the-atoms-of-computation"
   ]
  },
  {
   "cell_type": "code",
   "execution_count": 1,
   "id": "6367a015-9e6e-402e-8220-3c7424dfda9c",
   "metadata": {},
   "outputs": [
    {
     "data": {
      "text/html": [
       "<pre style=\"word-wrap: normal;white-space: pre;background: #fff0;line-height: 1.1;font-family: &quot;Courier New&quot;,Courier,monospace\">     \n",
       "q_0: \n",
       "     \n",
       "q_1: \n",
       "     \n",
       "q_2: \n",
       "     \n",
       "c: 3/\n",
       "     </pre>"
      ],
      "text/plain": [
       "     \n",
       "q_0: \n",
       "     \n",
       "q_1: \n",
       "     \n",
       "q_2: \n",
       "     \n",
       "c: 3/\n",
       "     "
      ]
     },
     "execution_count": 1,
     "metadata": {},
     "output_type": "execute_result"
    }
   ],
   "source": [
    "#Import qiskit\n",
    "from qiskit import QuantumCircuit\n",
    "\n",
    "#Create quantum circuit with 3 qubits and 3 classical bits\n",
    "\n",
    "qc = QuantumCircuit(3,3)\n",
    "qc.draw()\n",
    "\n"
   ]
  },
  {
   "cell_type": "code",
   "execution_count": 2,
   "id": "c74ae7df-453a-45c8-b05f-de49535df365",
   "metadata": {},
   "outputs": [
    {
     "data": {
      "text/html": [
       "<pre style=\"word-wrap: normal;white-space: pre;background: #fff0;line-height: 1.1;font-family: &quot;Courier New&quot;,Courier,monospace\">     ┌─┐      \n",
       "q_0: ┤M├──────\n",
       "     └╥┘┌─┐   \n",
       "q_1: ─╫─┤M├───\n",
       "      ║ └╥┘┌─┐\n",
       "q_2: ─╫──╫─┤M├\n",
       "      ║  ║ └╥┘\n",
       "c: 3/═╩══╩══╩═\n",
       "      0  1  2 </pre>"
      ],
      "text/plain": [
       "     ┌─┐      \n",
       "q_0: ┤M├──────\n",
       "     └╥┘┌─┐   \n",
       "q_1: ─╫─┤M├───\n",
       "      ║ └╥┘┌─┐\n",
       "q_2: ─╫──╫─┤M├\n",
       "      ║  ║ └╥┘\n",
       "c: 3/═╩══╩══╩═\n",
       "      0  1  2 "
      ]
     },
     "execution_count": 2,
     "metadata": {},
     "output_type": "execute_result"
    }
   ],
   "source": [
    "#measure qubits 0, 1, 2 to classical bits 0, 1, 2 respectively\n",
    "qc.measure([0,1,2], [0,1,2])\n",
    "qc.draw()"
   ]
  },
  {
   "cell_type": "code",
   "execution_count": 3,
   "id": "fa1f5973-4c6d-4c85-bd71-6f0c5299850a",
   "metadata": {},
   "outputs": [
    {
     "name": "stdout",
     "output_type": "stream",
     "text": [
      "Requirement already satisfied: qiskit_aer in /Library/Frameworks/Python.framework/Versions/3.11/lib/python3.11/site-packages (0.12.2)\n",
      "Requirement already satisfied: qiskit-terra>=0.21.0 in /Library/Frameworks/Python.framework/Versions/3.11/lib/python3.11/site-packages (from qiskit_aer) (0.25.0)\n",
      "Requirement already satisfied: numpy>=1.16.3 in /Library/Frameworks/Python.framework/Versions/3.11/lib/python3.11/site-packages (from qiskit_aer) (1.23.5)\n",
      "Requirement already satisfied: scipy>=1.0 in /Library/Frameworks/Python.framework/Versions/3.11/lib/python3.11/site-packages (from qiskit_aer) (1.11.1)\n",
      "Requirement already satisfied: rustworkx>=0.13.0 in /Library/Frameworks/Python.framework/Versions/3.11/lib/python3.11/site-packages (from qiskit-terra>=0.21.0->qiskit_aer) (0.13.1)\n",
      "Requirement already satisfied: ply>=3.10 in /Library/Frameworks/Python.framework/Versions/3.11/lib/python3.11/site-packages (from qiskit-terra>=0.21.0->qiskit_aer) (3.11)\n",
      "Requirement already satisfied: psutil>=5 in /Library/Frameworks/Python.framework/Versions/3.11/lib/python3.11/site-packages (from qiskit-terra>=0.21.0->qiskit_aer) (5.9.5)\n",
      "Requirement already satisfied: sympy>=1.3 in /Library/Frameworks/Python.framework/Versions/3.11/lib/python3.11/site-packages (from qiskit-terra>=0.21.0->qiskit_aer) (1.12)\n",
      "Requirement already satisfied: dill>=0.3 in /Library/Frameworks/Python.framework/Versions/3.11/lib/python3.11/site-packages (from qiskit-terra>=0.21.0->qiskit_aer) (0.3.7)\n",
      "Requirement already satisfied: python-dateutil>=2.8.0 in /Library/Frameworks/Python.framework/Versions/3.11/lib/python3.11/site-packages (from qiskit-terra>=0.21.0->qiskit_aer) (2.8.2)\n",
      "Requirement already satisfied: stevedore>=3.0.0 in /Library/Frameworks/Python.framework/Versions/3.11/lib/python3.11/site-packages (from qiskit-terra>=0.21.0->qiskit_aer) (5.1.0)\n",
      "Requirement already satisfied: symengine<0.10,>=0.9 in /Library/Frameworks/Python.framework/Versions/3.11/lib/python3.11/site-packages (from qiskit-terra>=0.21.0->qiskit_aer) (0.9.2)\n",
      "Requirement already satisfied: six>=1.5 in /Library/Frameworks/Python.framework/Versions/3.11/lib/python3.11/site-packages (from python-dateutil>=2.8.0->qiskit-terra>=0.21.0->qiskit_aer) (1.16.0)\n",
      "Requirement already satisfied: pbr!=2.1.0,>=2.0.0 in /Library/Frameworks/Python.framework/Versions/3.11/lib/python3.11/site-packages (from stevedore>=3.0.0->qiskit-terra>=0.21.0->qiskit_aer) (5.11.1)\n",
      "Requirement already satisfied: mpmath>=0.19 in /Library/Frameworks/Python.framework/Versions/3.11/lib/python3.11/site-packages (from sympy>=1.3->qiskit-terra>=0.21.0->qiskit_aer) (1.3.0)\n",
      "\n",
      "\u001b[1m[\u001b[0m\u001b[34;49mnotice\u001b[0m\u001b[1;39;49m]\u001b[0m\u001b[39;49m A new release of pip available: \u001b[0m\u001b[31;49m22.3.1\u001b[0m\u001b[39;49m -> \u001b[0m\u001b[32;49m23.2.1\u001b[0m\n",
      "\u001b[1m[\u001b[0m\u001b[34;49mnotice\u001b[0m\u001b[1;39;49m]\u001b[0m\u001b[39;49m To update, run: \u001b[0m\u001b[32;49mpip3 install --upgrade pip\u001b[0m\n"
     ]
    }
   ],
   "source": [
    "#Just in case jupyter lab is buggin and can't find qiskit_aer module\n",
    "import sys\n",
    "!{sys.executable} -m pip install qiskit_aer"
   ]
  },
  {
   "cell_type": "code",
   "execution_count": 4,
   "id": "1945d490-bbd2-4443-9aed-d0d26518b668",
   "metadata": {},
   "outputs": [],
   "source": [
    "#Import qiskit's simulator AER\n",
    "from qiskit_aer import AerSimulator\n",
    "sim = AerSimulator() # Make new simulator object"
   ]
  },
  {
   "cell_type": "code",
   "execution_count": 5,
   "id": "cc9b3d7b-b217-43c3-a4f8-8975fdb8fd7e",
   "metadata": {},
   "outputs": [
    {
     "data": {
      "text/plain": [
       "{'000': 1024}"
      ]
     },
     "execution_count": 5,
     "metadata": {},
     "output_type": "execute_result"
    }
   ],
   "source": [
    "#Run the experiment\n",
    "job = sim.run(qc)\n",
    "result = job.result()\n",
    "result.get_counts()"
   ]
  },
  {
   "cell_type": "markdown",
   "id": "6455128d-dee1-4663-9018-7ef0e3e7143c",
   "metadata": {},
   "source": [
    "## Encoding an input"
   ]
  },
  {
   "cell_type": "code",
   "execution_count": 6,
   "id": "2f96148f-aaa2-4d14-befb-8080b29251a4",
   "metadata": {},
   "outputs": [
    {
     "data": {
      "text/html": [
       "<pre style=\"word-wrap: normal;white-space: pre;background: #fff0;line-height: 1.1;font-family: &quot;Courier New&quot;,Courier,monospace\">     ┌───┐┌─┐   \n",
       "q_0: ┤ X ├┤M├───\n",
       "     ├───┤└╥┘┌─┐\n",
       "q_1: ┤ X ├─╫─┤M├\n",
       "     └┬─┬┘ ║ └╥┘\n",
       "q_2: ─┤M├──╫──╫─\n",
       "      └╥┘  ║  ║ \n",
       "c: 3/══╩═══╩══╩═\n",
       "       2   0  1 </pre>"
      ],
      "text/plain": [
       "     ┌───┐┌─┐   \n",
       "q_0: ┤ X ├┤M├───\n",
       "     ├───┤└╥┘┌─┐\n",
       "q_1: ┤ X ├─╫─┤M├\n",
       "     └┬─┬┘ ║ └╥┘\n",
       "q_2: ─┤M├──╫──╫─\n",
       "      └╥┘  ║  ║ \n",
       "c: 3/══╩═══╩══╩═\n",
       "       2   0  1 "
      ]
     },
     "execution_count": 6,
     "metadata": {},
     "output_type": "execute_result"
    }
   ],
   "source": [
    "# Perform X-gates on qubits 0 and 1\n",
    "qc = QuantumCircuit(3,3)\n",
    "qc.x([0,1])\n",
    "qc.measure([0,1,2], [0,1,2])\n",
    "qc.draw()"
   ]
  },
  {
   "cell_type": "code",
   "execution_count": 7,
   "id": "36bfe741-2adb-4196-bbb0-bcef3ea6b780",
   "metadata": {},
   "outputs": [
    {
     "data": {
      "text/plain": [
       "{'011': 1024}"
      ]
     },
     "execution_count": 7,
     "metadata": {},
     "output_type": "execute_result"
    }
   ],
   "source": [
    "#Run experiment with encoded input\n",
    "job = sim.run(qc)\n",
    "result = job.result()\n",
    "result.get_counts()"
   ]
  },
  {
   "cell_type": "markdown",
   "id": "a02f2422-2c6f-4340-8a75-d1f757ab93b0",
   "metadata": {},
   "source": [
    "## CNOT and Toffoli (CCNOT) Gates"
   ]
  },
  {
   "cell_type": "code",
   "execution_count": 8,
   "id": "9e1168c3-1c5b-4281-8c55-17b1401b7dee",
   "metadata": {},
   "outputs": [
    {
     "name": "stdout",
     "output_type": "stream",
     "text": [
      "CNOT gate\n"
     ]
    },
    {
     "data": {
      "text/html": [
       "<pre style=\"word-wrap: normal;white-space: pre;background: #fff0;line-height: 1.1;font-family: &quot;Courier New&quot;,Courier,monospace\">     ┌───┐     ┌─┐   \n",
       "q_0: ┤ X ├──■──┤M├───\n",
       "     └───┘┌─┴─┐└╥┘┌─┐\n",
       "q_1: ─────┤ X ├─╫─┤M├\n",
       "          └───┘ ║ └╥┘\n",
       "c: 2/═══════════╩══╩═\n",
       "                0  1 </pre>"
      ],
      "text/plain": [
       "     ┌───┐     ┌─┐   \n",
       "q_0: ┤ X ├──■──┤M├───\n",
       "     └───┘┌─┴─┐└╥┘┌─┐\n",
       "q_1: ─────┤ X ├─╫─┤M├\n",
       "          └───┘ ║ └╥┘\n",
       "c: 2/═══════════╩══╩═\n",
       "                0  1 "
      ]
     },
     "metadata": {},
     "output_type": "display_data"
    },
    {
     "name": "stdout",
     "output_type": "stream",
     "text": [
      "\n",
      " Results: {'11': 1024}\n"
     ]
    }
   ],
   "source": [
    "# Create quantum circuit with 2 qubits with input 01\n",
    "qc = QuantumCircuit(2,2)\n",
    "qc.x(0)\n",
    "\n",
    "#CNOT gate where .cx(control gate, target gate)\n",
    "qc.cx(0,1)\n",
    "qc.measure([0,1], [0,1])\n",
    "print(f'CNOT gate')\n",
    "display(qc.draw())\n",
    "\n",
    "#Output becomes 11 after setting 1 as the target qubit\n",
    "job = sim.run(qc)\n",
    "result = job.result()\n",
    "print(f'\\n Results: {result.get_counts()}')"
   ]
  },
  {
   "cell_type": "code",
   "execution_count": 9,
   "id": "b8ba7727-b6aa-425f-aebd-67630f8f9ddf",
   "metadata": {},
   "outputs": [
    {
     "name": "stdout",
     "output_type": "stream",
     "text": [
      "Toffoli gate\n"
     ]
    },
    {
     "data": {
      "text/html": [
       "<pre style=\"word-wrap: normal;white-space: pre;background: #fff0;line-height: 1.1;font-family: &quot;Courier New&quot;,Courier,monospace\">     ┌───┐     ┌─┐      \n",
       "q_0: ┤ X ├──■──┤M├──────\n",
       "     ├───┤  │  └╥┘┌─┐   \n",
       "q_1: ┤ X ├──■───╫─┤M├───\n",
       "     └───┘┌─┴─┐ ║ └╥┘┌─┐\n",
       "q_2: ─────┤ X ├─╫──╫─┤M├\n",
       "          └───┘ ║  ║ └╥┘\n",
       "c: 3/═══════════╩══╩══╩═\n",
       "                0  1  2 </pre>"
      ],
      "text/plain": [
       "     ┌───┐     ┌─┐      \n",
       "q_0: ┤ X ├──■──┤M├──────\n",
       "     ├───┤  │  └╥┘┌─┐   \n",
       "q_1: ┤ X ├──■───╫─┤M├───\n",
       "     └───┘┌─┴─┐ ║ └╥┘┌─┐\n",
       "q_2: ─────┤ X ├─╫──╫─┤M├\n",
       "          └───┘ ║  ║ └╥┘\n",
       "c: 3/═══════════╩══╩══╩═\n",
       "                0  1  2 "
      ]
     },
     "metadata": {},
     "output_type": "display_data"
    },
    {
     "name": "stdout",
     "output_type": "stream",
     "text": [
      "\n",
      " Results: {'111': 1024}\n"
     ]
    }
   ],
   "source": [
    "# Create quantum circuit with 3 qubits with input 011\n",
    "qc = QuantumCircuit(3,3)\n",
    "qc.x(0)\n",
    "qc.x(1)\n",
    "\n",
    "#Toffoli gate (AND gate or CCNOT gate)\n",
    "qc.ccx(0,1,2)\n",
    "qc.measure([0,1,2], [0,1,2])\n",
    "print(f'Toffoli gate')\n",
    "display(qc.draw())\n",
    "\n",
    "job = sim.run(qc)\n",
    "result = job.result()\n",
    "print(f'\\n Results: {result.get_counts()}')"
   ]
  },
  {
   "cell_type": "markdown",
   "id": "389d19b2-6cb0-427c-a48c-28af48a0065a",
   "metadata": {},
   "source": [
    "## Combining CNOT and Toffoli Gates to Make a Half Adder"
   ]
  },
  {
   "cell_type": "code",
   "execution_count": 10,
   "id": "295321b4-265c-4921-8d2a-fe575ca994f3",
   "metadata": {},
   "outputs": [
    {
     "data": {
      "text/html": [
       "<pre style=\"word-wrap: normal;white-space: pre;background: #fff0;line-height: 1.1;font-family: &quot;Courier New&quot;,Courier,monospace\">                               \n",
       "q_0: ───────■─────────■────────\n",
       "     ┌───┐  │         │        \n",
       "q_1: ┤ X ├──┼────■────■────────\n",
       "     └───┘┌─┴─┐┌─┴─┐  │  ┌─┐   \n",
       "q_2: ─────┤ X ├┤ X ├──┼──┤M├───\n",
       "          └───┘└───┘┌─┴─┐└╥┘┌─┐\n",
       "q_3: ───────────────┤ X ├─╫─┤M├\n",
       "                    └───┘ ║ └╥┘\n",
       "c: 2/═════════════════════╩══╩═\n",
       "                          0  1 </pre>"
      ],
      "text/plain": [
       "                               \n",
       "q_0: ───────■─────────■────────\n",
       "     ┌───┐  │         │        \n",
       "q_1: ┤ X ├──┼────■────■────────\n",
       "     └───┘┌─┴─┐┌─┴─┐  │  ┌─┐   \n",
       "q_2: ─────┤ X ├┤ X ├──┼──┤M├───\n",
       "          └───┘└───┘┌─┴─┐└╥┘┌─┐\n",
       "q_3: ───────────────┤ X ├─╫─┤M├\n",
       "                    └───┘ ║ └╥┘\n",
       "c: 2/═════════════════════╩══╩═\n",
       "                          0  1 "
      ]
     },
     "metadata": {},
     "output_type": "display_data"
    },
    {
     "name": "stdout",
     "output_type": "stream",
     "text": [
      "\n",
      " Results: {'01': 1024}\n"
     ]
    }
   ],
   "source": [
    "# Quantum circuit for half adder will use 4 qubits and 2 bits\n",
    "half_adder = QuantumCircuit(4,2)\n",
    "\n",
    "#Encode input ('11') (Remove .x() if you want to flip a certain bit and mess with input)\n",
    "#half_adder.x(0)\n",
    "half_adder.x(1)\n",
    "\n",
    "#Implement CNOT and Toffoli gates to create half adder logic\n",
    "half_adder.cx(0,2)\n",
    "half_adder.cx(1,2)\n",
    "half_adder.ccx(0,1,3)\n",
    "\n",
    "#Measure the qubits and extract output\n",
    "half_adder.measure(2,0)\n",
    "half_adder.measure(3,1)\n",
    "display(half_adder.draw())\n",
    "\n",
    "#Run the job\n",
    "job = sim.run(half_adder)\n",
    "result = job.result()\n",
    "print(f'\\n Results: {result.get_counts()}')\n",
    "\n"
   ]
  },
  {
   "cell_type": "code",
   "execution_count": null,
   "id": "5aec5d79-2a8b-4286-b95c-8f57111d38b0",
   "metadata": {},
   "outputs": [],
   "source": []
  }
 ],
 "metadata": {
  "kernelspec": {
   "display_name": "Python 3 (ipykernel)",
   "language": "python",
   "name": "python3"
  },
  "language_info": {
   "codemirror_mode": {
    "name": "ipython",
    "version": 3
   },
   "file_extension": ".py",
   "mimetype": "text/x-python",
   "name": "python",
   "nbconvert_exporter": "python",
   "pygments_lexer": "ipython3",
   "version": "3.11.2"
  }
 },
 "nbformat": 4,
 "nbformat_minor": 5
}
