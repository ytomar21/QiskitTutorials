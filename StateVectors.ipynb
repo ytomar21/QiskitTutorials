{
 "cells": [
  {
   "cell_type": "markdown",
   "id": "f899fa87-a528-401f-b5e0-6bde9da80daf",
   "metadata": {},
   "source": [
    "## Lesson 1: State Vectors"
   ]
  },
  {
   "cell_type": "code",
   "execution_count": 1,
   "id": "b6f533ef-e5ce-4ee3-94d9-57cff06e8a56",
   "metadata": {},
   "outputs": [
    {
     "data": {
      "text/plain": [
       "array([0.5, 0.5])"
      ]
     },
     "execution_count": 1,
     "metadata": {},
     "output_type": "execute_result"
    }
   ],
   "source": [
    "from numpy import array\n",
    "\n",
    "#Initializes two vectors\n",
    "ket0 = array([1,0])\n",
    "ket1 = array([0,1])\n",
    "\n",
    "ket0/2 + ket1/2"
   ]
  },
  {
   "cell_type": "code",
   "execution_count": 2,
   "id": "02726821-e297-476d-9d3c-5320d16a5b2c",
   "metadata": {},
   "outputs": [
    {
     "data": {
      "text/plain": [
       "array([[1. , 1. ],\n",
       "       [0.5, 0. ]])"
      ]
     },
     "execution_count": 2,
     "metadata": {},
     "output_type": "execute_result"
    }
   ],
   "source": [
    "M1 = array([ [1,1], [0,0] ])\n",
    "M2 = array([ [1,1], [1,0] ])\n",
    "\n",
    "M1/2 + M2/2"
   ]
  },
  {
   "cell_type": "markdown",
   "id": "524c613f-ca5a-4eea-9f65-a71b7c6ddc7b",
   "metadata": {},
   "source": [
    "## Matrix Multiplication"
   ]
  },
  {
   "cell_type": "code",
   "execution_count": 3,
   "id": "4c5d98c0-6081-4441-9e3e-3ab467d92c43",
   "metadata": {},
   "outputs": [
    {
     "name": "stdout",
     "output_type": "stream",
     "text": [
      "Multiplying M1 * ket1 : [1 0]\n",
      "Multiplying M1 * M2: [[2 1]\n",
      " [0 0]]\n",
      "Multiplying M2 * M1: [[1 1]\n",
      " [1 1]]\n"
     ]
    }
   ],
   "source": [
    "from numpy import matmul\n",
    "\n",
    "print(f'Multiplying M1 * ket1 : {matmul(M1,ket1)}')\n",
    "print(f'Multiplying M1 * M2: {matmul(M1, M2)}')\n",
    "print(f'Multiplying M2 * M1: {matmul(M2, M1)}')"
   ]
  },
  {
   "cell_type": "markdown",
   "id": "c28f39de-268e-4c36-a8f5-d86ee1f44f22",
   "metadata": {},
   "source": [
    "## Displaying Quantum State Vectors"
   ]
  },
  {
   "cell_type": "code",
   "execution_count": 5,
   "id": "0f7f8740-ce0b-4dd1-8a4a-5895cbc46607",
   "metadata": {},
   "outputs": [],
   "source": [
    "from qiskit.quantum_info import Statevector\n",
    "from numpy import sqrt\n",
    "\n",
    "#Defining state vectors\n",
    "u = Statevector([1/sqrt(2), 1/sqrt(2)])\n",
    "v = Statevector([(1+2.j)/3, -2/3])\n",
    "w = Statevector([1/3, 2/3])"
   ]
  },
  {
   "cell_type": "code",
   "execution_count": 9,
   "id": "64506908-0c06-4024-a1e0-33d1e782a188",
   "metadata": {},
   "outputs": [
    {
     "data": {
      "text/latex": [
       "$$\\frac{\\sqrt{2}}{2} |0\\rangle+\\frac{\\sqrt{2}}{2} |1\\rangle$$"
      ],
      "text/plain": [
       "<IPython.core.display.Latex object>"
      ]
     },
     "metadata": {},
     "output_type": "display_data"
    },
    {
     "name": "stdout",
     "output_type": "stream",
     "text": [
      "V drawn in text: [ 0.33333333+0.66666667j,-0.66666667+0.j        ]\n"
     ]
    }
   ],
   "source": [
    "#Display vectors\n",
    "display(u.draw(\"latex\"))\n",
    "print(f'V drawn in text: {v.draw(\"text\")}')"
   ]
  },
  {
   "cell_type": "code",
   "execution_count": 10,
   "id": "91f8e680-fb37-49e5-81c7-f6312ac326ae",
   "metadata": {},
   "outputs": [
    {
     "data": {
      "text/plain": [
       "True"
      ]
     },
     "metadata": {},
     "output_type": "display_data"
    },
    {
     "data": {
      "text/plain": [
       "True"
      ]
     },
     "metadata": {},
     "output_type": "display_data"
    },
    {
     "data": {
      "text/plain": [
       "False"
      ]
     },
     "metadata": {},
     "output_type": "display_data"
    }
   ],
   "source": [
    "#Check if state vectors are valid (Euclidean Norm == 1)\n",
    "display(u.is_valid())\n",
    "display(v.is_valid())\n",
    "display(w.is_valid())"
   ]
  },
  {
   "cell_type": "markdown",
   "id": "2a91407e-387c-49e2-b5ba-778f90ef66b3",
   "metadata": {},
   "source": [
    "## Measure Quantum State"
   ]
  },
  {
   "cell_type": "code",
   "execution_count": 14,
   "id": "f5e86140-12eb-463d-a02b-9d98443b42cf",
   "metadata": {},
   "outputs": [
    {
     "data": {
      "text/plain": [
       "('0',\n",
       " Statevector([0.4472136+0.89442719j, 0.       +0.j        ],\n",
       "             dims=(2,)))"
      ]
     },
     "execution_count": 14,
     "metadata": {},
     "output_type": "execute_result"
    }
   ],
   "source": [
    "#Single measure - can change each time it is ran\n",
    "v.measure()"
   ]
  },
  {
   "cell_type": "code",
   "execution_count": 15,
   "id": "f61f2b02-66a1-4812-b8a3-92d3994ff2d5",
   "metadata": {},
   "outputs": [
    {
     "data": {
      "text/plain": [
       "{'0': 571, '1': 429}"
      ]
     },
     "metadata": {},
     "output_type": "display_data"
    },
    {
     "data": {
      "image/png": "[encoded data removed]",
      "text/plain": [
       "<Figure size 700x500 with 1 Axes>"
      ]
     },
     "execution_count": 15,
     "metadata": {},
     "output_type": "execute_result"
    }
   ],
   "source": [
    "#Simulate multiple measurements\n",
    "from qiskit.visualization import plot_histogram\n",
    "\n",
    "statistics = v.sample_counts(1000)\n",
    "display(statistics)\n",
    "plot_histogram(statistics)"
   ]
  },
  {
   "cell_type": "markdown",
   "id": "c9000512-ddb3-40fb-8fa8-f373b5312ffd",
   "metadata": {},
   "source": [
    "## Performing operations with Operator and Statevector"
   ]
  },
  {
   "cell_type": "code",
   "execution_count": 19,
   "id": "7a2d42da-ef56-438b-ba8e-239d1dc8dc92",
   "metadata": {},
   "outputs": [
    {
     "name": "stdout",
     "output_type": "stream",
     "text": [
      "H gate\n"
     ]
    },
    {
     "data": {
      "text/latex": [
       "$$\\frac{\\sqrt{2}}{2} |0\\rangle+\\frac{\\sqrt{2}}{2} |1\\rangle$$"
      ],
      "text/plain": [
       "<IPython.core.display.Latex object>"
      ]
     },
     "metadata": {},
     "output_type": "display_data"
    },
    {
     "name": "stdout",
     "output_type": "stream",
     "text": [
      "H -> T\n"
     ]
    },
    {
     "data": {
      "text/latex": [
       "$$\\frac{\\sqrt{2}}{2} |0\\rangle+(\\frac{1}{2} + \\frac{i}{2}) |1\\rangle$$"
      ],
      "text/plain": [
       "<IPython.core.display.Latex object>"
      ]
     },
     "metadata": {},
     "output_type": "display_data"
    },
    {
     "name": "stdout",
     "output_type": "stream",
     "text": [
      "H -> T -> H\n"
     ]
    },
    {
     "data": {
      "text/latex": [
       "$$(0.8535533906 + 0.3535533906 i) |0\\rangle+(0.1464466094 - 0.3535533906 i) |1\\rangle$$"
      ],
      "text/plain": [
       "<IPython.core.display.Latex object>"
      ]
     },
     "metadata": {},
     "output_type": "display_data"
    },
    {
     "name": "stdout",
     "output_type": "stream",
     "text": [
      "H -> T -> H -> T\n"
     ]
    },
    {
     "data": {
      "text/latex": [
       "$$(0.8535533906 + 0.3535533906 i) |0\\rangle+(0.3535533906 - 0.1464466094 i) |1\\rangle$$"
      ],
      "text/plain": [
       "<IPython.core.display.Latex object>"
      ]
     },
     "metadata": {},
     "output_type": "display_data"
    },
    {
     "name": "stdout",
     "output_type": "stream",
     "text": [
      "H -> T -> H -> T -> Z\n"
     ]
    },
    {
     "data": {
      "text/latex": [
       "$$(0.8535533906 + 0.3535533906 i) |0\\rangle+(-0.3535533906 + 0.1464466094 i) |1\\rangle$$"
      ],
      "text/plain": [
       "<IPython.core.display.Latex object>"
      ]
     },
     "metadata": {},
     "output_type": "display_data"
    }
   ],
   "source": [
    "from qiskit.quantum_info import Operator\n",
    "\n",
    "X = Operator([ [0,1], [1,0] ])\n",
    "Y = Operator([ [0, -1.j], [1.j, 0] ])\n",
    "Z = Operator([ [1,0], [0, -1] ])\n",
    "H = Operator([ [1/sqrt(2), 1/sqrt(2)], [1/sqrt(2), -1/sqrt(2)] ])\n",
    "S = Operator([ [1,0], [0,1.j] ])\n",
    "T = Operator([ [1,0], [0, (1+1.j)/sqrt(2)] ])\n",
    "\n",
    "v = Statevector([1,0])\n",
    "\n",
    "v = v.evolve(H)\n",
    "print(\"H gate\")\n",
    "display(v.draw(\"latex\"))\n",
    "\n",
    "v = v.evolve(T)\n",
    "print(\"H -> T\")\n",
    "display(v.draw(\"latex\"))\n",
    "\n",
    "v = v.evolve(H)\n",
    "print(\"H -> T -> H\")\n",
    "display(v.draw(\"latex\"))\n",
    "\n",
    "v = v.evolve(T)\n",
    "print(\"H -> T -> H -> T\")\n",
    "display(v.draw(\"latex\"))\n",
    "\n",
    "v = v.evolve(Z)\n",
    "print(\"H -> T -> H -> T -> Z\")\n",
    "display(v.draw(\"latex\"))"
   ]
  },
  {
   "cell_type": "code",
   "execution_count": 20,
   "id": "2048dbd7-18b9-4ebb-842e-66db7cc0e45e",
   "metadata": {},
   "outputs": [
    {
     "data": {
      "text/html": [
       "<pre style=\"word-wrap: normal;white-space: pre;background: #fff0;line-height: 1.1;font-family: &quot;Courier New&quot;,Courier,monospace\">   ┌───┐┌───┐┌───┐┌───┐┌───┐\n",
       "q: ┤ H ├┤ T ├┤ H ├┤ T ├┤ Z ├\n",
       "   └───┘└───┘└───┘└───┘└───┘</pre>"
      ],
      "text/plain": [
       "   ┌───┐┌───┐┌───┐┌───┐┌───┐\n",
       "q: ┤ H ├┤ T ├┤ H ├┤ T ├┤ Z ├\n",
       "   └───┘└───┘└───┘└───┘└───┘"
      ]
     },
     "execution_count": 20,
     "metadata": {},
     "output_type": "execute_result"
    }
   ],
   "source": [
    "#Converting this to a quantum circuit\n",
    "from qiskit import QuantumCircuit\n",
    "\n",
    "circuit = QuantumCircuit(1)\n",
    "\n",
    "circuit.h(0)\n",
    "circuit.t(0)\n",
    "circuit.h(0)\n",
    "circuit.t(0)\n",
    "circuit.z(0)\n",
    "\n",
    "circuit.draw()"
   ]
  },
  {
   "cell_type": "code",
   "execution_count": 22,
   "id": "18da4125-2d10-4687-982a-827a5098a3e2",
   "metadata": {},
   "outputs": [
    {
     "data": {
      "text/latex": [
       "$$(0.8535533906 + 0.3535533906 i) |0\\rangle+(-0.3535533906 + 0.1464466094 i) |1\\rangle$$"
      ],
      "text/plain": [
       "<IPython.core.display.Latex object>"
      ]
     },
     "execution_count": 22,
     "metadata": {},
     "output_type": "execute_result"
    }
   ],
   "source": [
    "ket0 = Statevector([1,0])\n",
    "v = ket0.evolve(circuit)\n",
    "v.draw('latex')"
   ]
  },
  {
   "cell_type": "code",
   "execution_count": 23,
   "id": "eae61855-0886-40e7-b34e-65f1492586ec",
   "metadata": {},
   "outputs": [
    {
     "data": {
      "image/png": "[encoded data removed]",
      "text/plain": [
       "<Figure size 700x500 with 1 Axes>"
      ]
     },
     "execution_count": 23,
     "metadata": {},
     "output_type": "execute_result"
    }
   ],
   "source": [
    "#Simulate the result\n",
    "statistics = v.sample_counts(4000)\n",
    "plot_histogram(statistics)"
   ]
  },
  {
   "cell_type": "code",
   "execution_count": null,
   "id": "5656296c-3c03-4d41-afcf-0506e1a1f126",
   "metadata": {},
   "outputs": [],
   "source": []
  }
 ],
 "metadata": {
  "kernelspec": {
   "display_name": "dev",
   "language": "python",
   "name": "dev"
  },
  "language_info": {
   "codemirror_mode": {
    "name": "ipython",
    "version": 3
   },
   "file_extension": ".py",
   "mimetype": "text/x-python",
   "name": "python",
   "nbconvert_exporter": "python",
   "pygments_lexer": "ipython3",
   "version": "3.11.2"
  }
 },
 "nbformat": 4,
 "nbformat_minor": 5
}
